{
 "cells": [
  {
   "cell_type": "code",
   "execution_count": 1,
   "metadata": {},
   "outputs": [
    {
     "name": "stderr",
     "output_type": "stream",
     "text": [
      "\n",
      "Bad key \"text.kerning_factor\" on line 4 in\n",
      "/root/miniconda3/envs/vamb/lib/python3.7/site-packages/matplotlib/mpl-data/stylelib/_classic_test_patch.mplstyle.\n",
      "You probably need to get an updated matplotlibrc file from\n",
      "https://github.com/matplotlib/matplotlib/blob/v3.1.3/matplotlibrc.template\n",
      "or from the matplotlib source distribution\n"
     ]
    }
   ],
   "source": [
    "import os \n",
    "from matplotlib import markers, pyplot as plt\n",
    "import numpy as np"
   ]
  },
  {
   "cell_type": "code",
   "execution_count": 2,
   "metadata": {},
   "outputs": [],
   "source": [
    "def parser_loss(file,idx):\n",
    "    loss_ ,avg_loss_,lr_ = [],[],[]\n",
    "\n",
    "    with open(file,\"r\") as f :\n",
    "        for line in f.readlines():\n",
    "            _ = line.strip().split(\":\")\n",
    "            # assert len(_) == 6\n",
    "            # if idx == 5 or idx == 7:\n",
    "            loss_.append(round(float( _[3].strip()),4))\n",
    "            avg_loss_.append(round(float( _[-3].strip()),4))\n",
    "            lr_ .append(float(_[-1]))\n",
    "            # else:\n",
    "            #     loss_.append(round(float( _[1].strip(\"Loss \")),4))\n",
    "            #     avg_loss_.append(round(float( _[3].strip()),4))\n",
    "            #     lr_ .append(float(_[-1]))\n",
    "\n",
    "    return loss_,avg_loss_,lr_\n",
    "\n",
    "def plot_loss(dir,filename):\n",
    "    ''' loss格式:\n",
    "        train Epoch id : Loss 数值：Avg Loss : 数值 ：lr : 数值\n",
    "    '''\n",
    "    file = os.path.join(dir,filename)\n",
    "    loss_,avg_loss_,lr_ = parser_loss(file)\n",
    "    x = np.arange(len(loss_))\n",
    "    plt.plot(x,loss_,color=\"blue\",alpha=0.8)\n",
    "    plt.plot(x,avg_loss_,color=\"green\",alpha=0.8)\n",
    "    # plt.plot(x,lr_,color=\"blue\")  \n",
    "    "
   ]
  },
  {
   "cell_type": "code",
   "execution_count": 3,
   "metadata": {},
   "outputs": [],
   "source": [
    "def cac_avg_loss(file,idx,cnt = 400):\n",
    "\n",
    "   loss_,avg_loss_,lr_ = parser_loss(file,idx) \n",
    "   pre_avg_loss_  = 0\n",
    "   after_avg_loss_ = 0\n",
    "   length = len(avg_loss_)\n",
    "   for i in range(0,cnt):\n",
    "      pre_avg_loss_ += avg_loss_[i]\n",
    "   \n",
    "      after_avg_loss_ += avg_loss_[length-i-1]\n",
    "   \n",
    "   avg_loss_ = []\n",
    "   \n",
    "   print(\"corpus {} training loss is from {} to {}\".format(idx,pre_avg_loss_/cnt,after_avg_loss_/cnt))\n",
    "\n",
    "\n",
    "\n",
    "def run(dir,filename):\n",
    "   for i in range(3,8):\n",
    "      path = os.path.join(dir,\"corpus\"+str(i)+filename)\n",
    "      cac_avg_loss(path,i)\n",
    "   "
   ]
  },
  {
   "cell_type": "code",
   "execution_count": 63,
   "metadata": {},
   "outputs": [
    {
     "name": "stdout",
     "output_type": "stream",
     "text": [
      "corpus 3 training loss is from 2.5567354999999967 to 14.24135225000001\n",
      "corpus 4 training loss is from 3.8099795 to 0.5869432499999958\n",
      "corpus 5 training loss is from 5.48041025 to 0.7341210000000011\n",
      "corpus 6 training loss is from 7.825976000000001 to 0.8861277499999949\n",
      "corpus 7 training loss is from 10.656751249999996 to 1.0613999999999952\n"
     ]
    }
   ],
   "source": [
    "run(\"/workspace/vamb-data/1229fa/\")"
   ]
  },
  {
   "cell_type": "code",
   "execution_count": 69,
   "metadata": {},
   "outputs": [
    {
     "name": "stdout",
     "output_type": "stream",
     "text": [
      "corpus 3 training loss is from 2.9388957500000026 to 0.5251612499999968\n",
      "corpus 4 training loss is from 3.356043000000003 to 0.6195597499999973\n",
      "corpus 5 training loss is from 4.795778249999998 to 0.7402502499999964\n",
      "corpus 6 training loss is from 10.315349999999993 to 0.9687410000000005\n",
      "corpus 7 training loss is from 10.385217500000001 to 1.378606750000001\n"
     ]
    }
   ],
   "source": [
    "run(\"/workspace/vamb-data/1229fa/\",\"/model_params_bs_8sl_512/0330_768.log\")\n"
   ]
  },
  {
   "cell_type": "code",
   "execution_count": 70,
   "metadata": {},
   "outputs": [
    {
     "name": "stdout",
     "output_type": "stream",
     "text": [
      "corpus 3 training loss is from 3.201203749999998 to 0.465497000000001\n",
      "corpus 4 training loss is from 4.788928250000003 to 3.1010754999999985\n",
      "corpus 5 training loss is from 6.667613250000008 to 0.750499999999994\n",
      "corpus 6 training loss is from 8.714296499999994 to 4.2189912500000295\n",
      "corpus 7 training loss is from 11.141705249999994 to 2.018950250000002\n"
     ]
    }
   ],
   "source": [
    "run(\"/workspace/vamb-data/1229fa/\",\"/model_params_bs_8sl_512/0320_256.log\")"
   ]
  },
  {
   "cell_type": "code",
   "execution_count": 57,
   "metadata": {},
   "outputs": [],
   "source": [
    "def main(dir,fs=34):\n",
    "    '''\n",
    "    512:/model_params_bs_8sl_512/log.txt\n",
    "    256:/model_params_bs_8sl_512/0320_256.log\n",
    "    768:/model_params_bs_8sl_512/0330_768.log\n",
    "    '''\n",
    "    avg_losses = []\n",
    "    losses = []\n",
    "\n",
    "    min_length = 20000\n",
    "    for i in range(3,8):\n",
    "        path = os.path.join(dir,\"corpus\"+str(i)+\"/model_params_bs_8sl_512/0330_768.log\")\n",
    "\n",
    "        loss_,avg_loss_,lr_ = parser_loss(path,i)\n",
    "        # avg_loss_,loss_,lr_ = parser_loss(path,i)\n",
    "\n",
    "\n",
    "        avg_losses.append(avg_loss_)\n",
    "\n",
    "        losses.append(loss_)\n",
    "        \n",
    "        if len(avg_loss_) < min_length:\n",
    "            min_length = len(avg_loss_)\n",
    "    \n",
    "    nline = len(avg_losses)\n",
    "    colors = [\"blue\",\"orange\",\"green\",\"red\",\"gray\"]\n",
    "    print(min_length)\n",
    "    x = np.arange(min_length)\n",
    "    fig = plt.figure(figsize=(8,7))\n",
    "\n",
    "    for idx,avg_loss_ in enumerate(avg_losses):\n",
    "        plt.plot(x,avg_loss_[:min_length],color = colors[idx])\n",
    "    \n",
    "\n",
    "    plt.legend([\"3mer\",\"4mer\",\"5mer\",\"6mer\",\"7mer\"],fontsize=24)\n",
    "    plt.rcParams.update({\"font.size\":fs})\n",
    "    plt.xlabel(\"batch\",fontsize=fs)\n",
    "    plt.ylabel(\"average loss\",fontsize=fs)\n",
    "    plt.xticks(range(0,20000+1,5000),fontsize=fs)\n",
    "    plt.yticks(range(0,13,2),fontsize=fs)\n",
    "\n",
    "\n",
    "    plt.title(\"ContigBERT Training loss(H=768,L=12,A=8)\",fontsize=24)\n",
    "\n",
    "    plt.savefig(\"./768_kmerloss.png\",dpi=600)"
   ]
  },
  {
   "cell_type": "code",
   "execution_count": 58,
   "metadata": {},
   "outputs": [
    {
     "name": "stdout",
     "output_type": "stream",
     "text": [
      "20000\n"
     ]
    },
    {
     "data": {
      "image/png": "[encoded data removed]",
      "text/plain": [
       "<Figure size 576x504 with 1 Axes>"
      ]
     },
     "metadata": {
      "needs_background": "light"
     },
     "output_type": "display_data"
    }
   ],
   "source": [
    "main(\"/workspace/vamb-data/1229fa/\",fs=26)"
   ]
  },
  {
   "cell_type": "code",
   "execution_count": 7,
   "metadata": {},
   "outputs": [],
   "source": [
    "def find_loss(dir):\n",
    "    filenames = os.listdir(dir)\n",
    "    def parser(file):\n",
    "        with open(file,'r') as f:\n",
    "            try:\n",
    "                lines = f.readlines()     \n",
    "            except :\n",
    "                print(\"error\")\n",
    "            else:   \n",
    "                if len(lines) > 1e4 and len(lines[0].split(\":\")) <= 12:\n",
    "                    print(lines[0])\n",
    "                    print(\"doc_length:{},doc:{}\".format(len(lines),file))\n",
    "            \n",
    "\n",
    "    for name in filenames:\n",
    "        path = os.path.join(dir,name)\n",
    "        parser(path)\n"
   ]
  },
  {
   "cell_type": "code",
   "execution_count": 6,
   "metadata": {},
   "outputs": [
    {
     "name": "stdout",
     "output_type": "stream",
     "text": [
      "test Epoch 0 : Loss : 0.1071 : Avg Loss : 0.1071 : lr : 0.000001000 : acc : 0.00\n",
      "\n",
      "doc_length:28991,doc:/workspace/logdir/2021_11_22_01_58_03.log\n",
      "test Epoch 0 : Loss : 0.1032 : Avg Loss : 0.1032 : lr : 0.000001000 : acc : 0.00\n",
      "\n",
      "doc_length:28991,doc:/workspace/logdir/2021_11_21_14_01_23.log\n",
      "error\n",
      "train Epoch 0 : Loss : 1198.1387 : Avg Loss : 1198.1387 : lr : 0.003000000 : acc : 0.00\n",
      "\n",
      "doc_length:31077,doc:/workspace/logdir/2021_11_20_08_06_12.log\n",
      "train Epoch 0 : Loss : 15.8920 : Avg Loss : 15.8920 : lr : 0.000001000 : acc : 0.00\n",
      "\n",
      "doc_length:562631,doc:/workspace/logdir/2021_11_20_13_38_50.log\n",
      "train Epoch 0 : Loss : 1320.0217 : Avg Loss : 1320.0217 : lr : 0.003000000 : acc : 0.00\n",
      "\n",
      "doc_length:80947,doc:/workspace/logdir/2021_11_20_07_27_37.log\n",
      "error\n",
      "train Epoch 0 : Loss : 16.1459 : Avg Loss : 16.1459 : lr : 0.000001000 : acc : 0.00\n",
      "\n",
      "doc_length:35539,doc:/workspace/logdir/2021_11_20_12_48_22.log\n",
      "test Epoch 0 : Loss : 0.1162 : Avg Loss : 0.1162 : lr : 0.000001000 : acc : 0.00\n",
      "\n",
      "doc_length:28991,doc:/workspace/logdir/2021_11_21_14_50_43.log\n",
      "train Epoch 0 : Loss : 525.3877 : Avg Loss : 525.3877 : lr : 0.000030000 : acc : 0.00\n",
      "\n",
      "doc_length:30155,doc:/workspace/logdir/2021_11_20_06_30_02.log\n",
      "error\n",
      "error\n",
      "error\n",
      "train Epoch 0 : Loss : 25.9695 : Avg Loss : 25.9695 : lr : 0.000003000 : acc : 0.00\n",
      "\n",
      "doc_length:289920,doc:/workspace/logdir/2021_11_21_03_59_20.log\n",
      "test Epoch 0 : Loss : 0.0994 : Avg Loss : 0.0994 : lr : 0.000001000 : acc : 0.00\n",
      "\n",
      "doc_length:28991,doc:/workspace/logdir/2021_11_22_02_23_13.log\n",
      "train Epoch 0 : Loss : 1278.2516 : Avg Loss : 1278.2516 : lr : 0.003000000 : acc : 0.00\n",
      "\n",
      "doc_length:89174,doc:/workspace/logdir/2021_11_20_07_45_19.log\n",
      "train Epoch 0 : Loss : 530.7988 : Avg Loss : 530.7988 : lr : 0.000030000 : acc : 0.00\n",
      "\n",
      "doc_length:42485,doc:/workspace/logdir/2021_11_20_06_36_37.log\n",
      "train Epoch 0 : Loss : 15.0484 : Avg Loss : 15.0484 : lr : 0.000001000 : acc : 0.00\n",
      "\n",
      "doc_length:557600,doc:/workspace/logdir/2021_11_20_13_41_54.log\n",
      "train Epoch 0 : Loss : 302.0238 : Avg Loss : 302.0238 : lr : 0.000007000 : acc : 0.00\n",
      "\n",
      "doc_length:20969,doc:/workspace/logdir/2021_11_20_09_42_12.log\n",
      "train Epoch 0 : Loss : 28.1309 : Avg Loss : 28.1309 : lr : 0.000003000 : acc : 0.00\n",
      "\n",
      "doc_length:289920,doc:/workspace/logdir/2021_11_21_05_23_36.log\n",
      "train Epoch 0 : Loss : 507.5241 : Avg Loss : 507.5241 : lr : 0.003000000 : acc : 0.00\n",
      "\n",
      "doc_length:33156,doc:/workspace/logdir/2021_11_20_07_19_31.log\n",
      "train Epoch 0 : Loss : 14.7760 : Avg Loss : 14.7760 : lr : 0.000001000 : acc : 0.00\n",
      "\n",
      "doc_length:76602,doc:/workspace/logdir/2021_11_20_10_01_44.log\n",
      "train Epoch 0 : Loss : 523.1453 : Avg Loss : 523.1453 : lr : 0.000030000 : acc : 0.00\n",
      "\n",
      "doc_length:115393,doc:/workspace/logdir/2021_11_20_06_45_46.log\n",
      "error\n",
      "error\n",
      "train Epoch 0 : Loss : 532.7245 : Avg Loss : 532.7245 : lr : 0.003000000 : acc : 0.00\n",
      "\n",
      "doc_length:52293,doc:/workspace/logdir/2021_11_20_07_08_28.log\n",
      "train Epoch 0 : Loss : 1283.8689 : Avg Loss : 1283.8689 : lr : 0.003000000 : acc : 0.00\n",
      "\n",
      "doc_length:57982,doc:/workspace/logdir/2021_11_20_08_05_10.log\n",
      "train Epoch 0 : Loss : 15.7356 : Avg Loss : 15.7356 : lr : 0.000001000 : acc : 0.00\n",
      "\n",
      "doc_length:544150,doc:/workspace/logdir/2021_11_20_13_37_44.log\n",
      "error\n",
      "train Epoch 0 : Loss : 1302.8395 : Avg Loss : 1302.8395 : lr : 0.003000000 : acc : 0.00\n",
      "\n",
      "doc_length:10208,doc:/workspace/logdir/2021_11_20_08_01_14.log\n",
      "train Epoch 0 : Loss : 300.5997 : Avg Loss : 300.5997 : lr : 0.000030000 : acc : 0.00\n",
      "\n",
      "doc_length:29157,doc:/workspace/logdir/2021_11_20_08_44_08.log\n",
      "train Epoch 0 : Loss : 25.5949 : Avg Loss : 25.5949 : lr : 0.000003000 : acc : 0.00\n",
      "\n",
      "doc_length:10182,doc:/workspace/logdir/2021_11_21_03_43_30.log\n",
      "train Epoch 0 : Loss : 27.9370 : Avg Loss : 27.9370 : lr : 0.000003000 : acc : 0.00\n",
      "\n",
      "doc_length:289920,doc:/workspace/logdir/2021_11_21_05_23_07.log\n",
      "train Epoch 0 : Loss : 297.1865 : Avg Loss : 297.1865 : lr : 0.000007000 : acc : 0.00\n",
      "\n",
      "doc_length:27500,doc:/workspace/logdir/2021_11_20_09_12_46.log\n"
     ]
    }
   ],
   "source": [
    "find_loss(\"/workspace/logdir/\")"
   ]
  },
  {
   "cell_type": "code",
   "execution_count": 7,
   "metadata": {},
   "outputs": [
    {
     "ename": "TypeError",
     "evalue": "parser_loss() missing 1 required positional argument: 'idx'",
     "output_type": "error",
     "traceback": [
      "\u001b[0;31m---------------------------------------------------------------------------\u001b[0m",
      "\u001b[0;31mTypeError\u001b[0m                                 Traceback (most recent call last)",
      "\u001b[0;32m/tmp/ipykernel_7482/4270008337.py\u001b[0m in \u001b[0;36m<module>\u001b[0;34m\u001b[0m\n\u001b[1;32m      1\u001b[0m \u001b[0mdir\u001b[0m \u001b[0;34m=\u001b[0m \u001b[0;34m\"/workspace/vamb-data/1229fa/\"\u001b[0m\u001b[0;34m\u001b[0m\u001b[0;34m\u001b[0m\u001b[0m\n\u001b[1;32m      2\u001b[0m \u001b[0mfilename\u001b[0m \u001b[0;34m=\u001b[0m \u001b[0;34m\"corpus3/model_params_bs_8sl_512/0214-3mer-0.0001.log\"\u001b[0m\u001b[0;34m\u001b[0m\u001b[0;34m\u001b[0m\u001b[0m\n\u001b[0;32m----> 3\u001b[0;31m \u001b[0mplot_loss\u001b[0m\u001b[0;34m(\u001b[0m\u001b[0mdir\u001b[0m\u001b[0;34m,\u001b[0m\u001b[0mfilename\u001b[0m\u001b[0;34m)\u001b[0m\u001b[0;34m\u001b[0m\u001b[0;34m\u001b[0m\u001b[0m\n\u001b[0m",
      "\u001b[0;32m/tmp/ipykernel_7482/3143527127.py\u001b[0m in \u001b[0;36mplot_loss\u001b[0;34m(dir, filename)\u001b[0m\n\u001b[1;32m     22\u001b[0m     '''\n\u001b[1;32m     23\u001b[0m     \u001b[0mfile\u001b[0m \u001b[0;34m=\u001b[0m \u001b[0mos\u001b[0m\u001b[0;34m.\u001b[0m\u001b[0mpath\u001b[0m\u001b[0;34m.\u001b[0m\u001b[0mjoin\u001b[0m\u001b[0;34m(\u001b[0m\u001b[0mdir\u001b[0m\u001b[0;34m,\u001b[0m\u001b[0mfilename\u001b[0m\u001b[0;34m)\u001b[0m\u001b[0;34m\u001b[0m\u001b[0;34m\u001b[0m\u001b[0m\n\u001b[0;32m---> 24\u001b[0;31m     \u001b[0mloss_\u001b[0m\u001b[0;34m,\u001b[0m\u001b[0mavg_loss_\u001b[0m\u001b[0;34m,\u001b[0m\u001b[0mlr_\u001b[0m \u001b[0;34m=\u001b[0m \u001b[0mparser_loss\u001b[0m\u001b[0;34m(\u001b[0m\u001b[0mfile\u001b[0m\u001b[0;34m)\u001b[0m\u001b[0;34m\u001b[0m\u001b[0;34m\u001b[0m\u001b[0m\n\u001b[0m\u001b[1;32m     25\u001b[0m     \u001b[0mx\u001b[0m \u001b[0;34m=\u001b[0m \u001b[0mnp\u001b[0m\u001b[0;34m.\u001b[0m\u001b[0marange\u001b[0m\u001b[0;34m(\u001b[0m\u001b[0mlen\u001b[0m\u001b[0;34m(\u001b[0m\u001b[0mloss_\u001b[0m\u001b[0;34m)\u001b[0m\u001b[0;34m)\u001b[0m\u001b[0;34m\u001b[0m\u001b[0;34m\u001b[0m\u001b[0m\n\u001b[1;32m     26\u001b[0m     \u001b[0mplt\u001b[0m\u001b[0;34m.\u001b[0m\u001b[0mplot\u001b[0m\u001b[0;34m(\u001b[0m\u001b[0mx\u001b[0m\u001b[0;34m,\u001b[0m\u001b[0mloss_\u001b[0m\u001b[0;34m,\u001b[0m\u001b[0mcolor\u001b[0m\u001b[0;34m=\u001b[0m\u001b[0;34m\"blue\"\u001b[0m\u001b[0;34m,\u001b[0m\u001b[0malpha\u001b[0m\u001b[0;34m=\u001b[0m\u001b[0;36m0.8\u001b[0m\u001b[0;34m)\u001b[0m\u001b[0;34m\u001b[0m\u001b[0;34m\u001b[0m\u001b[0m\n",
      "\u001b[0;31mTypeError\u001b[0m: parser_loss() missing 1 required positional argument: 'idx'"
     ]
    }
   ],
   "source": [
    "dir = \"/workspace/vamb-data/1229fa/\"\n",
    "filename = \"corpus3/model_params_bs_8sl_512/0214-3mer-0.0001.log\"\n",
    "plot_loss(dir,filename)"
   ]
  },
  {
   "cell_type": "code",
   "execution_count": 8,
   "metadata": {},
   "outputs": [
    {
     "ename": "TypeError",
     "evalue": "parser_loss() missing 1 required positional argument: 'idx'",
     "output_type": "error",
     "traceback": [
      "\u001b[0;31m---------------------------------------------------------------------------\u001b[0m",
      "\u001b[0;31mTypeError\u001b[0m                                 Traceback (most recent call last)",
      "\u001b[0;32m/tmp/ipykernel_7482/2852715737.py\u001b[0m in \u001b[0;36m<module>\u001b[0;34m\u001b[0m\n\u001b[1;32m      1\u001b[0m \u001b[0mdir\u001b[0m \u001b[0;34m=\u001b[0m \u001b[0;34m\"/workspace/vamb-data/1229fa/\"\u001b[0m\u001b[0;34m\u001b[0m\u001b[0;34m\u001b[0m\u001b[0m\n\u001b[1;32m      2\u001b[0m \u001b[0mfilename\u001b[0m \u001b[0;34m=\u001b[0m \u001b[0;34m\"corpus4/model_params_bs_8sl_512/0214-4mer-0.0001.log\"\u001b[0m\u001b[0;34m\u001b[0m\u001b[0;34m\u001b[0m\u001b[0m\n\u001b[0;32m----> 3\u001b[0;31m \u001b[0mplot_loss\u001b[0m\u001b[0;34m(\u001b[0m\u001b[0mdir\u001b[0m\u001b[0;34m,\u001b[0m\u001b[0mfilename\u001b[0m\u001b[0;34m)\u001b[0m\u001b[0;34m\u001b[0m\u001b[0;34m\u001b[0m\u001b[0m\n\u001b[0m",
      "\u001b[0;32m/tmp/ipykernel_7482/3143527127.py\u001b[0m in \u001b[0;36mplot_loss\u001b[0;34m(dir, filename)\u001b[0m\n\u001b[1;32m     22\u001b[0m     '''\n\u001b[1;32m     23\u001b[0m     \u001b[0mfile\u001b[0m \u001b[0;34m=\u001b[0m \u001b[0mos\u001b[0m\u001b[0;34m.\u001b[0m\u001b[0mpath\u001b[0m\u001b[0;34m.\u001b[0m\u001b[0mjoin\u001b[0m\u001b[0;34m(\u001b[0m\u001b[0mdir\u001b[0m\u001b[0;34m,\u001b[0m\u001b[0mfilename\u001b[0m\u001b[0;34m)\u001b[0m\u001b[0;34m\u001b[0m\u001b[0;34m\u001b[0m\u001b[0m\n\u001b[0;32m---> 24\u001b[0;31m     \u001b[0mloss_\u001b[0m\u001b[0;34m,\u001b[0m\u001b[0mavg_loss_\u001b[0m\u001b[0;34m,\u001b[0m\u001b[0mlr_\u001b[0m \u001b[0;34m=\u001b[0m \u001b[0mparser_loss\u001b[0m\u001b[0;34m(\u001b[0m\u001b[0mfile\u001b[0m\u001b[0;34m)\u001b[0m\u001b[0;34m\u001b[0m\u001b[0;34m\u001b[0m\u001b[0m\n\u001b[0m\u001b[1;32m     25\u001b[0m     \u001b[0mx\u001b[0m \u001b[0;34m=\u001b[0m \u001b[0mnp\u001b[0m\u001b[0;34m.\u001b[0m\u001b[0marange\u001b[0m\u001b[0;34m(\u001b[0m\u001b[0mlen\u001b[0m\u001b[0;34m(\u001b[0m\u001b[0mloss_\u001b[0m\u001b[0;34m)\u001b[0m\u001b[0;34m)\u001b[0m\u001b[0;34m\u001b[0m\u001b[0;34m\u001b[0m\u001b[0m\n\u001b[1;32m     26\u001b[0m     \u001b[0mplt\u001b[0m\u001b[0;34m.\u001b[0m\u001b[0mplot\u001b[0m\u001b[0;34m(\u001b[0m\u001b[0mx\u001b[0m\u001b[0;34m,\u001b[0m\u001b[0mloss_\u001b[0m\u001b[0;34m,\u001b[0m\u001b[0mcolor\u001b[0m\u001b[0;34m=\u001b[0m\u001b[0;34m\"blue\"\u001b[0m\u001b[0;34m,\u001b[0m\u001b[0malpha\u001b[0m\u001b[0;34m=\u001b[0m\u001b[0;36m0.8\u001b[0m\u001b[0;34m)\u001b[0m\u001b[0;34m\u001b[0m\u001b[0;34m\u001b[0m\u001b[0m\n",
      "\u001b[0;31mTypeError\u001b[0m: parser_loss() missing 1 required positional argument: 'idx'"
     ]
    }
   ],
   "source": [
    "dir = \"/workspace/vamb-data/1229fa/\"\n",
    "filename = \"corpus4/model_params_bs_8sl_512/0214-4mer-0.0001.log\"\n",
    "plot_loss(dir,filename)"
   ]
  },
  {
   "cell_type": "code",
   "execution_count": null,
   "metadata": {},
   "outputs": [],
   "source": [
    "dir = \"/workspace/vamb-data/1229fa/\"\n",
    "filename = \"corpus5/model_params_bs_8sl_512/0214-5mer-0.001.log\"\n",
    "plot_loss(dir,filename)"
   ]
  },
  {
   "cell_type": "code",
   "execution_count": null,
   "metadata": {},
   "outputs": [],
   "source": [
    "dir = \"/workspace/\"\n",
    "filename = \"newest.log\"\n",
    "plot_loss(dir,filename)\n"
   ]
  },
  {
   "cell_type": "code",
   "execution_count": null,
   "metadata": {},
   "outputs": [],
   "source": [
    "dir = \"/workspace/vamb-data/1229fa/\"\n",
    "filename = \"corpus7/model_params_bs_8sl_512/0214-7mer-0.001.log\"\n",
    "plot_loss(dir,filename)"
   ]
  },
  {
   "cell_type": "code",
   "execution_count": null,
   "metadata": {},
   "outputs": [],
   "source": []
  }
 ],
 "metadata": {
  "interpreter": {
   "hash": "669eda5074183ccb44663b43a1d3ca410ad3249a9fbd78f21e9491d15c5cc052"
  },
  "kernelspec": {
   "display_name": "Python 3.7.9 64-bit ('base': conda)",
   "name": "python3"
  },
  "language_info": {
   "codemirror_mode": {
    "name": "ipython",
    "version": 3
   },
   "file_extension": ".py",
   "mimetype": "text/x-python",
   "name": "python",
   "nbconvert_exporter": "python",
   "pygments_lexer": "ipython3",
   "version": "3.7.9"
  },
  "orig_nbformat": 4
 },
 "nbformat": 4,
 "nbformat_minor": 2
}
